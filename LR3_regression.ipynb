{
 "cells": [
  {
   "cell_type": "markdown",
   "id": "3202eb51",
   "metadata": {},
   "source": [
    "Импорт библиотек:"
   ]
  },
  {
   "cell_type": "code",
   "execution_count": 149,
   "id": "7eba8539",
   "metadata": {},
   "outputs": [],
   "source": [
    "import pandas as pd\n",
    "from sklearn.model_selection import train_test_split\n",
    "from sklearn.linear_model import LinearRegression\n",
    "from sklearn.kernel_ridge import KernelRidge\n",
    "from sklearn.ensemble import GradientBoostingRegressor\n",
    "from sklearn.metrics import mean_squared_error, r2_score"
   ]
  },
  {
   "cell_type": "markdown",
   "id": "f393f464",
   "metadata": {},
   "source": [
    "Считывание данных:"
   ]
  },
  {
   "cell_type": "code",
   "execution_count": 2,
   "id": "1f20d6b8",
   "metadata": {},
   "outputs": [],
   "source": [
    "df = pd.read_excel('ENB2012_data.xlsx')"
   ]
  },
  {
   "cell_type": "code",
   "execution_count": 3,
   "id": "10b005ab",
   "metadata": {},
   "outputs": [
    {
     "name": "stdout",
     "output_type": "stream",
     "text": [
      "<class 'pandas.core.frame.DataFrame'>\n",
      "RangeIndex: 768 entries, 0 to 767\n",
      "Data columns (total 12 columns):\n",
      " #   Column       Non-Null Count  Dtype  \n",
      "---  ------       --------------  -----  \n",
      " 0   X1           768 non-null    float64\n",
      " 1   X2           768 non-null    float64\n",
      " 2   X3           768 non-null    float64\n",
      " 3   X4           768 non-null    float64\n",
      " 4   X5           768 non-null    float64\n",
      " 5   X6           768 non-null    int64  \n",
      " 6   X7           768 non-null    float64\n",
      " 7   X8           768 non-null    int64  \n",
      " 8   Y1           768 non-null    float64\n",
      " 9   Y2           768 non-null    float64\n",
      " 10  Unnamed: 10  0 non-null      float64\n",
      " 11  Unnamed: 11  0 non-null      float64\n",
      "dtypes: float64(10), int64(2)\n",
      "memory usage: 72.1 KB\n"
     ]
    }
   ],
   "source": [
    "df.info()"
   ]
  },
  {
   "cell_type": "markdown",
   "id": "b53dacb9",
   "metadata": {},
   "source": [
    "Удаление лишних столбцов:"
   ]
  },
  {
   "cell_type": "code",
   "execution_count": 4,
   "id": "695304fb",
   "metadata": {},
   "outputs": [
    {
     "data": {
      "text/html": [
       "<div>\n",
       "<style scoped>\n",
       "    .dataframe tbody tr th:only-of-type {\n",
       "        vertical-align: middle;\n",
       "    }\n",
       "\n",
       "    .dataframe tbody tr th {\n",
       "        vertical-align: top;\n",
       "    }\n",
       "\n",
       "    .dataframe thead th {\n",
       "        text-align: right;\n",
       "    }\n",
       "</style>\n",
       "<table border=\"1\" class=\"dataframe\">\n",
       "  <thead>\n",
       "    <tr style=\"text-align: right;\">\n",
       "      <th></th>\n",
       "      <th>X1</th>\n",
       "      <th>X2</th>\n",
       "      <th>X3</th>\n",
       "      <th>X4</th>\n",
       "      <th>X5</th>\n",
       "      <th>X6</th>\n",
       "      <th>X7</th>\n",
       "      <th>X8</th>\n",
       "      <th>Y1</th>\n",
       "      <th>Y2</th>\n",
       "    </tr>\n",
       "  </thead>\n",
       "  <tbody>\n",
       "    <tr>\n",
       "      <th>0</th>\n",
       "      <td>0.98</td>\n",
       "      <td>514.5</td>\n",
       "      <td>294.0</td>\n",
       "      <td>110.25</td>\n",
       "      <td>7.0</td>\n",
       "      <td>2</td>\n",
       "      <td>0.0</td>\n",
       "      <td>0</td>\n",
       "      <td>15.55</td>\n",
       "      <td>21.33</td>\n",
       "    </tr>\n",
       "    <tr>\n",
       "      <th>1</th>\n",
       "      <td>0.98</td>\n",
       "      <td>514.5</td>\n",
       "      <td>294.0</td>\n",
       "      <td>110.25</td>\n",
       "      <td>7.0</td>\n",
       "      <td>3</td>\n",
       "      <td>0.0</td>\n",
       "      <td>0</td>\n",
       "      <td>15.55</td>\n",
       "      <td>21.33</td>\n",
       "    </tr>\n",
       "    <tr>\n",
       "      <th>2</th>\n",
       "      <td>0.98</td>\n",
       "      <td>514.5</td>\n",
       "      <td>294.0</td>\n",
       "      <td>110.25</td>\n",
       "      <td>7.0</td>\n",
       "      <td>4</td>\n",
       "      <td>0.0</td>\n",
       "      <td>0</td>\n",
       "      <td>15.55</td>\n",
       "      <td>21.33</td>\n",
       "    </tr>\n",
       "    <tr>\n",
       "      <th>3</th>\n",
       "      <td>0.98</td>\n",
       "      <td>514.5</td>\n",
       "      <td>294.0</td>\n",
       "      <td>110.25</td>\n",
       "      <td>7.0</td>\n",
       "      <td>5</td>\n",
       "      <td>0.0</td>\n",
       "      <td>0</td>\n",
       "      <td>15.55</td>\n",
       "      <td>21.33</td>\n",
       "    </tr>\n",
       "    <tr>\n",
       "      <th>4</th>\n",
       "      <td>0.90</td>\n",
       "      <td>563.5</td>\n",
       "      <td>318.5</td>\n",
       "      <td>122.50</td>\n",
       "      <td>7.0</td>\n",
       "      <td>2</td>\n",
       "      <td>0.0</td>\n",
       "      <td>0</td>\n",
       "      <td>20.84</td>\n",
       "      <td>28.28</td>\n",
       "    </tr>\n",
       "    <tr>\n",
       "      <th>...</th>\n",
       "      <td>...</td>\n",
       "      <td>...</td>\n",
       "      <td>...</td>\n",
       "      <td>...</td>\n",
       "      <td>...</td>\n",
       "      <td>...</td>\n",
       "      <td>...</td>\n",
       "      <td>...</td>\n",
       "      <td>...</td>\n",
       "      <td>...</td>\n",
       "    </tr>\n",
       "    <tr>\n",
       "      <th>763</th>\n",
       "      <td>0.64</td>\n",
       "      <td>784.0</td>\n",
       "      <td>343.0</td>\n",
       "      <td>220.50</td>\n",
       "      <td>3.5</td>\n",
       "      <td>5</td>\n",
       "      <td>0.4</td>\n",
       "      <td>5</td>\n",
       "      <td>17.88</td>\n",
       "      <td>21.40</td>\n",
       "    </tr>\n",
       "    <tr>\n",
       "      <th>764</th>\n",
       "      <td>0.62</td>\n",
       "      <td>808.5</td>\n",
       "      <td>367.5</td>\n",
       "      <td>220.50</td>\n",
       "      <td>3.5</td>\n",
       "      <td>2</td>\n",
       "      <td>0.4</td>\n",
       "      <td>5</td>\n",
       "      <td>16.54</td>\n",
       "      <td>16.88</td>\n",
       "    </tr>\n",
       "    <tr>\n",
       "      <th>765</th>\n",
       "      <td>0.62</td>\n",
       "      <td>808.5</td>\n",
       "      <td>367.5</td>\n",
       "      <td>220.50</td>\n",
       "      <td>3.5</td>\n",
       "      <td>3</td>\n",
       "      <td>0.4</td>\n",
       "      <td>5</td>\n",
       "      <td>16.44</td>\n",
       "      <td>17.11</td>\n",
       "    </tr>\n",
       "    <tr>\n",
       "      <th>766</th>\n",
       "      <td>0.62</td>\n",
       "      <td>808.5</td>\n",
       "      <td>367.5</td>\n",
       "      <td>220.50</td>\n",
       "      <td>3.5</td>\n",
       "      <td>4</td>\n",
       "      <td>0.4</td>\n",
       "      <td>5</td>\n",
       "      <td>16.48</td>\n",
       "      <td>16.61</td>\n",
       "    </tr>\n",
       "    <tr>\n",
       "      <th>767</th>\n",
       "      <td>0.62</td>\n",
       "      <td>808.5</td>\n",
       "      <td>367.5</td>\n",
       "      <td>220.50</td>\n",
       "      <td>3.5</td>\n",
       "      <td>5</td>\n",
       "      <td>0.4</td>\n",
       "      <td>5</td>\n",
       "      <td>16.64</td>\n",
       "      <td>16.03</td>\n",
       "    </tr>\n",
       "  </tbody>\n",
       "</table>\n",
       "<p>768 rows × 10 columns</p>\n",
       "</div>"
      ],
      "text/plain": [
       "       X1     X2     X3      X4   X5  X6   X7  X8     Y1     Y2\n",
       "0    0.98  514.5  294.0  110.25  7.0   2  0.0   0  15.55  21.33\n",
       "1    0.98  514.5  294.0  110.25  7.0   3  0.0   0  15.55  21.33\n",
       "2    0.98  514.5  294.0  110.25  7.0   4  0.0   0  15.55  21.33\n",
       "3    0.98  514.5  294.0  110.25  7.0   5  0.0   0  15.55  21.33\n",
       "4    0.90  563.5  318.5  122.50  7.0   2  0.0   0  20.84  28.28\n",
       "..    ...    ...    ...     ...  ...  ..  ...  ..    ...    ...\n",
       "763  0.64  784.0  343.0  220.50  3.5   5  0.4   5  17.88  21.40\n",
       "764  0.62  808.5  367.5  220.50  3.5   2  0.4   5  16.54  16.88\n",
       "765  0.62  808.5  367.5  220.50  3.5   3  0.4   5  16.44  17.11\n",
       "766  0.62  808.5  367.5  220.50  3.5   4  0.4   5  16.48  16.61\n",
       "767  0.62  808.5  367.5  220.50  3.5   5  0.4   5  16.64  16.03\n",
       "\n",
       "[768 rows x 10 columns]"
      ]
     },
     "execution_count": 4,
     "metadata": {},
     "output_type": "execute_result"
    }
   ],
   "source": [
    "df = df.drop(['Unnamed: 10', 'Unnamed: 11'], axis=1)\n",
    "df"
   ]
  },
  {
   "cell_type": "markdown",
   "id": "e15f4867",
   "metadata": {},
   "source": [
    "Выделение входных и выходных данных:"
   ]
  },
  {
   "cell_type": "code",
   "execution_count": 6,
   "id": "fcb55deb",
   "metadata": {},
   "outputs": [
    {
     "data": {
      "text/html": [
       "<div>\n",
       "<style scoped>\n",
       "    .dataframe tbody tr th:only-of-type {\n",
       "        vertical-align: middle;\n",
       "    }\n",
       "\n",
       "    .dataframe tbody tr th {\n",
       "        vertical-align: top;\n",
       "    }\n",
       "\n",
       "    .dataframe thead th {\n",
       "        text-align: right;\n",
       "    }\n",
       "</style>\n",
       "<table border=\"1\" class=\"dataframe\">\n",
       "  <thead>\n",
       "    <tr style=\"text-align: right;\">\n",
       "      <th></th>\n",
       "      <th>X1</th>\n",
       "      <th>X2</th>\n",
       "      <th>X3</th>\n",
       "      <th>X4</th>\n",
       "      <th>X5</th>\n",
       "      <th>X6</th>\n",
       "      <th>X7</th>\n",
       "      <th>X8</th>\n",
       "    </tr>\n",
       "  </thead>\n",
       "  <tbody>\n",
       "    <tr>\n",
       "      <th>0</th>\n",
       "      <td>0.98</td>\n",
       "      <td>514.5</td>\n",
       "      <td>294.0</td>\n",
       "      <td>110.25</td>\n",
       "      <td>7.0</td>\n",
       "      <td>2</td>\n",
       "      <td>0.0</td>\n",
       "      <td>0</td>\n",
       "    </tr>\n",
       "    <tr>\n",
       "      <th>1</th>\n",
       "      <td>0.98</td>\n",
       "      <td>514.5</td>\n",
       "      <td>294.0</td>\n",
       "      <td>110.25</td>\n",
       "      <td>7.0</td>\n",
       "      <td>3</td>\n",
       "      <td>0.0</td>\n",
       "      <td>0</td>\n",
       "    </tr>\n",
       "    <tr>\n",
       "      <th>2</th>\n",
       "      <td>0.98</td>\n",
       "      <td>514.5</td>\n",
       "      <td>294.0</td>\n",
       "      <td>110.25</td>\n",
       "      <td>7.0</td>\n",
       "      <td>4</td>\n",
       "      <td>0.0</td>\n",
       "      <td>0</td>\n",
       "    </tr>\n",
       "    <tr>\n",
       "      <th>3</th>\n",
       "      <td>0.98</td>\n",
       "      <td>514.5</td>\n",
       "      <td>294.0</td>\n",
       "      <td>110.25</td>\n",
       "      <td>7.0</td>\n",
       "      <td>5</td>\n",
       "      <td>0.0</td>\n",
       "      <td>0</td>\n",
       "    </tr>\n",
       "    <tr>\n",
       "      <th>4</th>\n",
       "      <td>0.90</td>\n",
       "      <td>563.5</td>\n",
       "      <td>318.5</td>\n",
       "      <td>122.50</td>\n",
       "      <td>7.0</td>\n",
       "      <td>2</td>\n",
       "      <td>0.0</td>\n",
       "      <td>0</td>\n",
       "    </tr>\n",
       "    <tr>\n",
       "      <th>...</th>\n",
       "      <td>...</td>\n",
       "      <td>...</td>\n",
       "      <td>...</td>\n",
       "      <td>...</td>\n",
       "      <td>...</td>\n",
       "      <td>...</td>\n",
       "      <td>...</td>\n",
       "      <td>...</td>\n",
       "    </tr>\n",
       "    <tr>\n",
       "      <th>763</th>\n",
       "      <td>0.64</td>\n",
       "      <td>784.0</td>\n",
       "      <td>343.0</td>\n",
       "      <td>220.50</td>\n",
       "      <td>3.5</td>\n",
       "      <td>5</td>\n",
       "      <td>0.4</td>\n",
       "      <td>5</td>\n",
       "    </tr>\n",
       "    <tr>\n",
       "      <th>764</th>\n",
       "      <td>0.62</td>\n",
       "      <td>808.5</td>\n",
       "      <td>367.5</td>\n",
       "      <td>220.50</td>\n",
       "      <td>3.5</td>\n",
       "      <td>2</td>\n",
       "      <td>0.4</td>\n",
       "      <td>5</td>\n",
       "    </tr>\n",
       "    <tr>\n",
       "      <th>765</th>\n",
       "      <td>0.62</td>\n",
       "      <td>808.5</td>\n",
       "      <td>367.5</td>\n",
       "      <td>220.50</td>\n",
       "      <td>3.5</td>\n",
       "      <td>3</td>\n",
       "      <td>0.4</td>\n",
       "      <td>5</td>\n",
       "    </tr>\n",
       "    <tr>\n",
       "      <th>766</th>\n",
       "      <td>0.62</td>\n",
       "      <td>808.5</td>\n",
       "      <td>367.5</td>\n",
       "      <td>220.50</td>\n",
       "      <td>3.5</td>\n",
       "      <td>4</td>\n",
       "      <td>0.4</td>\n",
       "      <td>5</td>\n",
       "    </tr>\n",
       "    <tr>\n",
       "      <th>767</th>\n",
       "      <td>0.62</td>\n",
       "      <td>808.5</td>\n",
       "      <td>367.5</td>\n",
       "      <td>220.50</td>\n",
       "      <td>3.5</td>\n",
       "      <td>5</td>\n",
       "      <td>0.4</td>\n",
       "      <td>5</td>\n",
       "    </tr>\n",
       "  </tbody>\n",
       "</table>\n",
       "<p>768 rows × 8 columns</p>\n",
       "</div>"
      ],
      "text/plain": [
       "       X1     X2     X3      X4   X5  X6   X7  X8\n",
       "0    0.98  514.5  294.0  110.25  7.0   2  0.0   0\n",
       "1    0.98  514.5  294.0  110.25  7.0   3  0.0   0\n",
       "2    0.98  514.5  294.0  110.25  7.0   4  0.0   0\n",
       "3    0.98  514.5  294.0  110.25  7.0   5  0.0   0\n",
       "4    0.90  563.5  318.5  122.50  7.0   2  0.0   0\n",
       "..    ...    ...    ...     ...  ...  ..  ...  ..\n",
       "763  0.64  784.0  343.0  220.50  3.5   5  0.4   5\n",
       "764  0.62  808.5  367.5  220.50  3.5   2  0.4   5\n",
       "765  0.62  808.5  367.5  220.50  3.5   3  0.4   5\n",
       "766  0.62  808.5  367.5  220.50  3.5   4  0.4   5\n",
       "767  0.62  808.5  367.5  220.50  3.5   5  0.4   5\n",
       "\n",
       "[768 rows x 8 columns]"
      ]
     },
     "execution_count": 6,
     "metadata": {},
     "output_type": "execute_result"
    }
   ],
   "source": [
    "X_data = df.drop(['Y1', 'Y2'], axis=1)\n",
    "X_data"
   ]
  },
  {
   "cell_type": "code",
   "execution_count": 8,
   "id": "bfc5d17a",
   "metadata": {},
   "outputs": [
    {
     "data": {
      "text/html": [
       "<div>\n",
       "<style scoped>\n",
       "    .dataframe tbody tr th:only-of-type {\n",
       "        vertical-align: middle;\n",
       "    }\n",
       "\n",
       "    .dataframe tbody tr th {\n",
       "        vertical-align: top;\n",
       "    }\n",
       "\n",
       "    .dataframe thead th {\n",
       "        text-align: right;\n",
       "    }\n",
       "</style>\n",
       "<table border=\"1\" class=\"dataframe\">\n",
       "  <thead>\n",
       "    <tr style=\"text-align: right;\">\n",
       "      <th></th>\n",
       "      <th>Y1</th>\n",
       "      <th>Y2</th>\n",
       "    </tr>\n",
       "  </thead>\n",
       "  <tbody>\n",
       "    <tr>\n",
       "      <th>0</th>\n",
       "      <td>15.55</td>\n",
       "      <td>21.33</td>\n",
       "    </tr>\n",
       "    <tr>\n",
       "      <th>1</th>\n",
       "      <td>15.55</td>\n",
       "      <td>21.33</td>\n",
       "    </tr>\n",
       "    <tr>\n",
       "      <th>2</th>\n",
       "      <td>15.55</td>\n",
       "      <td>21.33</td>\n",
       "    </tr>\n",
       "    <tr>\n",
       "      <th>3</th>\n",
       "      <td>15.55</td>\n",
       "      <td>21.33</td>\n",
       "    </tr>\n",
       "    <tr>\n",
       "      <th>4</th>\n",
       "      <td>20.84</td>\n",
       "      <td>28.28</td>\n",
       "    </tr>\n",
       "    <tr>\n",
       "      <th>...</th>\n",
       "      <td>...</td>\n",
       "      <td>...</td>\n",
       "    </tr>\n",
       "    <tr>\n",
       "      <th>763</th>\n",
       "      <td>17.88</td>\n",
       "      <td>21.40</td>\n",
       "    </tr>\n",
       "    <tr>\n",
       "      <th>764</th>\n",
       "      <td>16.54</td>\n",
       "      <td>16.88</td>\n",
       "    </tr>\n",
       "    <tr>\n",
       "      <th>765</th>\n",
       "      <td>16.44</td>\n",
       "      <td>17.11</td>\n",
       "    </tr>\n",
       "    <tr>\n",
       "      <th>766</th>\n",
       "      <td>16.48</td>\n",
       "      <td>16.61</td>\n",
       "    </tr>\n",
       "    <tr>\n",
       "      <th>767</th>\n",
       "      <td>16.64</td>\n",
       "      <td>16.03</td>\n",
       "    </tr>\n",
       "  </tbody>\n",
       "</table>\n",
       "<p>768 rows × 2 columns</p>\n",
       "</div>"
      ],
      "text/plain": [
       "        Y1     Y2\n",
       "0    15.55  21.33\n",
       "1    15.55  21.33\n",
       "2    15.55  21.33\n",
       "3    15.55  21.33\n",
       "4    20.84  28.28\n",
       "..     ...    ...\n",
       "763  17.88  21.40\n",
       "764  16.54  16.88\n",
       "765  16.44  17.11\n",
       "766  16.48  16.61\n",
       "767  16.64  16.03\n",
       "\n",
       "[768 rows x 2 columns]"
      ]
     },
     "execution_count": 8,
     "metadata": {},
     "output_type": "execute_result"
    }
   ],
   "source": [
    "Y_data = df[['Y1', 'Y2']]\n",
    "Y_data"
   ]
  },
  {
   "cell_type": "markdown",
   "id": "86c1cbca",
   "metadata": {},
   "source": [
    "Получение тренировочной и тестовой выборок:"
   ]
  },
  {
   "cell_type": "code",
   "execution_count": 28,
   "id": "e72737dd",
   "metadata": {},
   "outputs": [],
   "source": [
    "X_train, X_test, Y_train, Y_test = train_test_split(X_data, Y_data, test_size=0.3)"
   ]
  },
  {
   "cell_type": "markdown",
   "id": "fc1d6190",
   "metadata": {},
   "source": [
    "## Линейная регрессия:"
   ]
  },
  {
   "cell_type": "code",
   "execution_count": 154,
   "id": "9929edde",
   "metadata": {},
   "outputs": [],
   "source": [
    "linear_regression_model = LinearRegression()"
   ]
  },
  {
   "cell_type": "markdown",
   "id": "91a9c05e",
   "metadata": {},
   "source": [
    "Обучение для *Y1*:"
   ]
  },
  {
   "cell_type": "code",
   "execution_count": 155,
   "id": "6c04f313",
   "metadata": {
    "scrolled": true
   },
   "outputs": [
    {
     "data": {
      "text/plain": [
       "LinearRegression()"
      ]
     },
     "execution_count": 155,
     "metadata": {},
     "output_type": "execute_result"
    }
   ],
   "source": [
    "linear_regression_model.fit(X_train, Y_train['Y1'])"
   ]
  },
  {
   "cell_type": "code",
   "execution_count": 156,
   "id": "d08c3ad1",
   "metadata": {},
   "outputs": [],
   "source": [
    "Y_pred_1_linear = linear_regression_model.predict(X_test)"
   ]
  },
  {
   "cell_type": "markdown",
   "id": "7855c645",
   "metadata": {},
   "source": [
    "*rmse* и *r2*:"
   ]
  },
  {
   "cell_type": "code",
   "execution_count": 161,
   "id": "193ab01c",
   "metadata": {},
   "outputs": [
    {
     "data": {
      "text/plain": [
       "8.23607402219391"
      ]
     },
     "execution_count": 161,
     "metadata": {},
     "output_type": "execute_result"
    }
   ],
   "source": [
    "rmse_linear_1 = mean_squared_error(Y_test['Y1'], Y_pred_1_linear)\n",
    "rmse_linear_1"
   ]
  },
  {
   "cell_type": "code",
   "execution_count": 162,
   "id": "00dfdc15",
   "metadata": {},
   "outputs": [
    {
     "data": {
      "text/plain": [
       "0.9168910417079882"
      ]
     },
     "execution_count": 162,
     "metadata": {},
     "output_type": "execute_result"
    }
   ],
   "source": [
    "r2_linear_1 = r2_score(Y_test['Y1'], Y_pred_1_linear)\n",
    "r2_linear_1"
   ]
  },
  {
   "cell_type": "markdown",
   "id": "16659132",
   "metadata": {},
   "source": [
    "Обучение для *Y2*:"
   ]
  },
  {
   "cell_type": "code",
   "execution_count": 163,
   "id": "82dd5075",
   "metadata": {
    "scrolled": true
   },
   "outputs": [
    {
     "data": {
      "text/plain": [
       "LinearRegression()"
      ]
     },
     "execution_count": 163,
     "metadata": {},
     "output_type": "execute_result"
    }
   ],
   "source": [
    "linear_regression_model.fit(X_train, Y_train['Y2'])"
   ]
  },
  {
   "cell_type": "code",
   "execution_count": 164,
   "id": "f18d7003",
   "metadata": {},
   "outputs": [],
   "source": [
    "Y_pred_2_linear = linear_regression_model.predict(X_test)"
   ]
  },
  {
   "cell_type": "markdown",
   "id": "44f5e8b8",
   "metadata": {},
   "source": [
    "*rmse* и *r2*:"
   ]
  },
  {
   "cell_type": "code",
   "execution_count": 165,
   "id": "7cca5deb",
   "metadata": {},
   "outputs": [
    {
     "data": {
      "text/plain": [
       "10.11237586584787"
      ]
     },
     "execution_count": 165,
     "metadata": {},
     "output_type": "execute_result"
    }
   ],
   "source": [
    "rmse_linear_2 = mean_squared_error(Y_test['Y2'], Y_pred_2_linear)\n",
    "rmse_linear_2"
   ]
  },
  {
   "cell_type": "code",
   "execution_count": 166,
   "id": "1363aa1e",
   "metadata": {},
   "outputs": [
    {
     "data": {
      "text/plain": [
       "0.883083106043881"
      ]
     },
     "execution_count": 166,
     "metadata": {},
     "output_type": "execute_result"
    }
   ],
   "source": [
    "r2_linear_2 = r2_score(Y_test['Y2'], Y_pred_2_linear)\n",
    "r2_linear_2"
   ]
  },
  {
   "cell_type": "markdown",
   "id": "1c4b2193",
   "metadata": {},
   "source": [
    "## Регрессия *kernel ridge*:"
   ]
  },
  {
   "cell_type": "code",
   "execution_count": 167,
   "id": "d3d87bda",
   "metadata": {},
   "outputs": [],
   "source": [
    "kernel_ridge_regression_model = KernelRidge()"
   ]
  },
  {
   "cell_type": "markdown",
   "id": "7cf8cc9e",
   "metadata": {},
   "source": [
    "Обучение для *Y1*:"
   ]
  },
  {
   "cell_type": "code",
   "execution_count": 168,
   "id": "49f6ed8b",
   "metadata": {
    "scrolled": true
   },
   "outputs": [
    {
     "data": {
      "text/plain": [
       "KernelRidge()"
      ]
     },
     "execution_count": 168,
     "metadata": {},
     "output_type": "execute_result"
    }
   ],
   "source": [
    "kernel_ridge_regression_model.fit(X_train, Y_train['Y1'])"
   ]
  },
  {
   "cell_type": "code",
   "execution_count": 169,
   "id": "6b2339b1",
   "metadata": {},
   "outputs": [],
   "source": [
    "Y_pred_1_kernel_ridge = kernel_ridge_regression_model.predict(X_test)"
   ]
  },
  {
   "cell_type": "markdown",
   "id": "a42d25a9",
   "metadata": {},
   "source": [
    "*rmse* и *r2*:"
   ]
  },
  {
   "cell_type": "code",
   "execution_count": 171,
   "id": "324c08d6",
   "metadata": {},
   "outputs": [
    {
     "data": {
      "text/plain": [
       "8.218950580706228"
      ]
     },
     "execution_count": 171,
     "metadata": {},
     "output_type": "execute_result"
    }
   ],
   "source": [
    "rmse_kernel_ridge_1 = mean_squared_error(Y_test['Y1'], Y_pred_1_kernel_ridge)\n",
    "rmse_kernel_ridge_1"
   ]
  },
  {
   "cell_type": "code",
   "execution_count": 172,
   "id": "896c69ec",
   "metadata": {},
   "outputs": [
    {
     "data": {
      "text/plain": [
       "0.917063831726701"
      ]
     },
     "execution_count": 172,
     "metadata": {},
     "output_type": "execute_result"
    }
   ],
   "source": [
    "r2_kernel_ridge_1 = r2_score(Y_test['Y1'], Y_pred_1_kernel_ridge)\n",
    "r2_kernel_ridge_1"
   ]
  },
  {
   "cell_type": "markdown",
   "id": "c1ceaba4",
   "metadata": {},
   "source": [
    "Обучение для *Y2*:"
   ]
  },
  {
   "cell_type": "code",
   "execution_count": 173,
   "id": "b8744171",
   "metadata": {
    "scrolled": true
   },
   "outputs": [
    {
     "data": {
      "text/plain": [
       "KernelRidge()"
      ]
     },
     "execution_count": 173,
     "metadata": {},
     "output_type": "execute_result"
    }
   ],
   "source": [
    "kernel_ridge_regression_model.fit(X_train, Y_train['Y2'])"
   ]
  },
  {
   "cell_type": "code",
   "execution_count": 174,
   "id": "a0c7acd2",
   "metadata": {},
   "outputs": [],
   "source": [
    "Y_pred_2_kernel_ridge = kernel_ridge_regression_model.predict(X_test)"
   ]
  },
  {
   "cell_type": "markdown",
   "id": "406b9880",
   "metadata": {},
   "source": [
    "*rmse* и *r2*:"
   ]
  },
  {
   "cell_type": "code",
   "execution_count": 175,
   "id": "8a713b7f",
   "metadata": {},
   "outputs": [
    {
     "data": {
      "text/plain": [
       "10.160942834016703"
      ]
     },
     "execution_count": 175,
     "metadata": {},
     "output_type": "execute_result"
    }
   ],
   "source": [
    "rmse_kernel_ridge_2 = mean_squared_error(Y_test['Y2'], Y_pred_2_kernel_ridge)\n",
    "rmse_kernel_ridge_2"
   ]
  },
  {
   "cell_type": "code",
   "execution_count": 176,
   "id": "f82310ec",
   "metadata": {},
   "outputs": [
    {
     "data": {
      "text/plain": [
       "0.8825215862643064"
      ]
     },
     "execution_count": 176,
     "metadata": {},
     "output_type": "execute_result"
    }
   ],
   "source": [
    "r2_kernel_ridge_2 = r2_score(Y_test['Y2'], Y_pred_2_kernel_ridge)\n",
    "r2_kernel_ridge_2"
   ]
  },
  {
   "cell_type": "markdown",
   "id": "7a1ba671",
   "metadata": {},
   "source": [
    "## Регрессия с усилением градиента:"
   ]
  },
  {
   "cell_type": "code",
   "execution_count": 177,
   "id": "e9aeb0a7",
   "metadata": {},
   "outputs": [],
   "source": [
    "gb_regression_model = GradientBoostingRegressor()"
   ]
  },
  {
   "cell_type": "markdown",
   "id": "5c990baf",
   "metadata": {},
   "source": [
    "Обучение для *Y1*:"
   ]
  },
  {
   "cell_type": "code",
   "execution_count": 178,
   "id": "0a2cd9e5",
   "metadata": {
    "scrolled": true
   },
   "outputs": [
    {
     "data": {
      "text/plain": [
       "GradientBoostingRegressor()"
      ]
     },
     "execution_count": 178,
     "metadata": {},
     "output_type": "execute_result"
    }
   ],
   "source": [
    "gb_regression_model.fit(X_train, Y_train['Y1'])"
   ]
  },
  {
   "cell_type": "code",
   "execution_count": 179,
   "id": "e6e540be",
   "metadata": {},
   "outputs": [],
   "source": [
    "Y_pred_1_gb = gb_regression_model.predict(X_test)"
   ]
  },
  {
   "cell_type": "markdown",
   "id": "22901c51",
   "metadata": {},
   "source": [
    "*rmse* и *r2*:"
   ]
  },
  {
   "cell_type": "code",
   "execution_count": 180,
   "id": "79bcbab7",
   "metadata": {},
   "outputs": [
    {
     "data": {
      "text/plain": [
       "0.2239033791069542"
      ]
     },
     "execution_count": 180,
     "metadata": {},
     "output_type": "execute_result"
    }
   ],
   "source": [
    "rmse_gb_1 = mean_squared_error(Y_test['Y1'], Y_pred_1_gb)\n",
    "rmse_gb_1"
   ]
  },
  {
   "cell_type": "code",
   "execution_count": 181,
   "id": "7125aaa8",
   "metadata": {},
   "outputs": [
    {
     "data": {
      "text/plain": [
       "0.9977406253822518"
      ]
     },
     "execution_count": 181,
     "metadata": {},
     "output_type": "execute_result"
    }
   ],
   "source": [
    "r2_gb_1 = r2_score(Y_test['Y1'], Y_pred_1_gb)\n",
    "r2_gb_1"
   ]
  },
  {
   "cell_type": "markdown",
   "id": "9ca6efad",
   "metadata": {},
   "source": [
    "Обучение для *Y2*:"
   ]
  },
  {
   "cell_type": "code",
   "execution_count": 182,
   "id": "9f247a71",
   "metadata": {
    "scrolled": true
   },
   "outputs": [
    {
     "data": {
      "text/plain": [
       "GradientBoostingRegressor()"
      ]
     },
     "execution_count": 182,
     "metadata": {},
     "output_type": "execute_result"
    }
   ],
   "source": [
    "gb_regression_model.fit(X_train, Y_train['Y2'])"
   ]
  },
  {
   "cell_type": "code",
   "execution_count": 183,
   "id": "7605158e",
   "metadata": {},
   "outputs": [],
   "source": [
    "Y_pred_2_gb = gb_regression_model.predict(X_test)"
   ]
  },
  {
   "cell_type": "markdown",
   "id": "b92bfff2",
   "metadata": {},
   "source": [
    "*rmse* и *r2*:"
   ]
  },
  {
   "cell_type": "code",
   "execution_count": 184,
   "id": "efdfbd78",
   "metadata": {},
   "outputs": [
    {
     "data": {
      "text/plain": [
       "1.8784795463902937"
      ]
     },
     "execution_count": 184,
     "metadata": {},
     "output_type": "execute_result"
    }
   ],
   "source": [
    "rmse_gb_2 = mean_squared_error(Y_test['Y2'], Y_pred_2_gb)\n",
    "rmse_gb_2"
   ]
  },
  {
   "cell_type": "code",
   "execution_count": 185,
   "id": "346b13f2",
   "metadata": {},
   "outputs": [
    {
     "data": {
      "text/plain": [
       "0.9782814645304289"
      ]
     },
     "execution_count": 185,
     "metadata": {},
     "output_type": "execute_result"
    }
   ],
   "source": [
    "r2_gb_2 = r2_score(Y_test['Y2'], Y_pred_2_gb)\n",
    "r2_gb_2"
   ]
  },
  {
   "cell_type": "markdown",
   "id": "e136eba3",
   "metadata": {},
   "source": [
    "## Сравнение результатов"
   ]
  },
  {
   "cell_type": "code",
   "execution_count": 192,
   "id": "90b639dc",
   "metadata": {},
   "outputs": [
    {
     "data": {
      "text/html": [
       "<div>\n",
       "<style scoped>\n",
       "    .dataframe tbody tr th:only-of-type {\n",
       "        vertical-align: middle;\n",
       "    }\n",
       "\n",
       "    .dataframe tbody tr th {\n",
       "        vertical-align: top;\n",
       "    }\n",
       "\n",
       "    .dataframe thead th {\n",
       "        text-align: right;\n",
       "    }\n",
       "</style>\n",
       "<table border=\"1\" class=\"dataframe\">\n",
       "  <thead>\n",
       "    <tr style=\"text-align: right;\">\n",
       "      <th></th>\n",
       "      <th>Y1 rmse</th>\n",
       "      <th>Y1 r2</th>\n",
       "      <th>Y2 rmse</th>\n",
       "      <th>Y2 r2</th>\n",
       "    </tr>\n",
       "  </thead>\n",
       "  <tbody>\n",
       "    <tr>\n",
       "      <th>Линейная регрессия</th>\n",
       "      <td>8.236074</td>\n",
       "      <td>0.916891</td>\n",
       "      <td>10.112376</td>\n",
       "      <td>0.883083</td>\n",
       "    </tr>\n",
       "    <tr>\n",
       "      <th>Kernel ridge</th>\n",
       "      <td>8.218951</td>\n",
       "      <td>0.917064</td>\n",
       "      <td>10.160943</td>\n",
       "      <td>0.882522</td>\n",
       "    </tr>\n",
       "    <tr>\n",
       "      <th>Регрессия с усилением градиента</th>\n",
       "      <td>0.223903</td>\n",
       "      <td>0.997741</td>\n",
       "      <td>1.878480</td>\n",
       "      <td>0.978281</td>\n",
       "    </tr>\n",
       "  </tbody>\n",
       "</table>\n",
       "</div>"
      ],
      "text/plain": [
       "                                  Y1 rmse     Y1 r2    Y2 rmse     Y2 r2\n",
       "Линейная регрессия               8.236074  0.916891  10.112376  0.883083\n",
       "Kernel ridge                     8.218951  0.917064  10.160943  0.882522\n",
       "Регрессия с усилением градиента  0.223903  0.997741   1.878480  0.978281"
      ]
     },
     "execution_count": 192,
     "metadata": {},
     "output_type": "execute_result"
    }
   ],
   "source": [
    "table = pd.DataFrame([[rmse_linear_1, r2_linear_1, rmse_linear_2, r2_linear_2],\n",
    "                      [rmse_kernel_ridge_1, r2_kernel_ridge_1, rmse_kernel_ridge_2, r2_kernel_ridge_2], \n",
    "                      [rmse_gb_1, r2_gb_1, rmse_gb_2, r2_gb_2]],\n",
    "                     columns=['Y1 rmse', 'Y1 r2', 'Y2 rmse', 'Y2 r2'],\n",
    "                     index=['Линейная регрессия', 'Kernel ridge', 'Регрессия с усилением градиента'])\n",
    "table"
   ]
  },
  {
   "cell_type": "markdown",
   "id": "5d3965ed",
   "metadata": {},
   "source": [
    "Как видно из таблицы, при использовании регрессии с усилением градиента достигаются наилучшие показатели метрик *rmse* и *r2*."
   ]
  },
  {
   "cell_type": "code",
   "execution_count": null,
   "id": "d4293464",
   "metadata": {},
   "outputs": [],
   "source": []
  }
 ],
 "metadata": {
  "kernelspec": {
   "display_name": "Python 3",
   "language": "python",
   "name": "python3"
  },
  "language_info": {
   "codemirror_mode": {
    "name": "ipython",
    "version": 3
   },
   "file_extension": ".py",
   "mimetype": "text/x-python",
   "name": "python",
   "nbconvert_exporter": "python",
   "pygments_lexer": "ipython3",
   "version": "3.8.8"
  }
 },
 "nbformat": 4,
 "nbformat_minor": 5
}
